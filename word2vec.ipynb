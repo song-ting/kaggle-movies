{
 "cells": [
  {
   "cell_type": "code",
   "execution_count": 1,
   "metadata": {},
   "outputs": [],
   "source": [
    "import pandas as pd\n",
    "from bs4 import BeautifulSoup\n",
    "import re\n",
    "from nltk.corpus import stopwords\n",
    "from nltk.tokenize import sent_tokenize\n",
    "from gensim.models.word2vec import Word2Vec"
   ]
  },
  {
   "cell_type": "code",
   "execution_count": 3,
   "metadata": {},
   "outputs": [],
   "source": [
    "def load_data(fname):\n",
    "    datas = {'labeledTrainData': 'labeledTrainData.tsv', \n",
    "            'unlabeledTrainData': 'unlabeledTrainData.tsv', \n",
    "            'testData': 'testData.tsv'\n",
    "            }\n",
    "    if fname not in datas:\n",
    "        raise ValueError(fname)\n",
    "    data_df = pd.read_csv(datas[fname], delimiter='\\t', escapechar='\\\\')\n",
    "    print('number of {}\\'s reviews: {}\\n'.format(fname, len(data_df)))\n",
    "    return data_df"
   ]
  },
  {
   "cell_type": "code",
   "execution_count": 4,
   "metadata": {},
   "outputs": [
    {
     "name": "stdout",
     "output_type": "stream",
     "text": [
      "number of labeledTrainData's reviews: 25000\n",
      "\n",
      "number of unlabeledTrainData's reviews: 50000\n",
      "\n"
     ]
    }
   ],
   "source": [
    "train_df = load_data('labeledTrainData')\n",
    "\n",
    "unlabeled_train_df = load_data('unlabeledTrainData')"
   ]
  },
  {
   "cell_type": "code",
   "execution_count": 5,
   "metadata": {},
   "outputs": [],
   "source": [
    "def review2word_list(review, remove_stopwords=False):\n",
    "    # 1. remove html tag\n",
    "    review_text = BeautifulSoup(review, 'html.parser').get_text()\n",
    "    # 2. remove non-letters, convert to lower case words \n",
    "    word_list = re.sub('[^a-zA-Z]', ' ', review_text).lower().split()\n",
    "    # 3. remove stopwords\n",
    "    if remove_stopwords:\n",
    "        stopwords_set = set(stopwords.words('english'))\n",
    "        word_list = [w for w in words if w not in stopwords_set]\n",
    "    # 4. return cleaned words list\n",
    "    return word_list"
   ]
  },
  {
   "cell_type": "code",
   "execution_count": 8,
   "metadata": {},
   "outputs": [],
   "source": [
    "def review2sent_list(review, remove_stopwords=False):\n",
    "    # 1. split the paragraph of review into sentences\n",
    "    sents = sent_tokenize(review.strip())\n",
    "    # 2. loop over each sentence\n",
    "    sent_list = [] # format: [sent1, sent2, ...]\n",
    "    for sent in sents:\n",
    "        if len(sent) > 0:\n",
    "            sent_list.append(review2word_list(sent, remove_stopwords))\n",
    "    # return sentence list of the paragraph\n",
    "    return sent_list"
   ]
  },
  {
   "cell_type": "code",
   "execution_count": 9,
   "metadata": {},
   "outputs": [
    {
     "name": "stdout",
     "output_type": "stream",
     "text": [
      "parsing reviews from training data: \n",
      "\n"
     ]
    },
    {
     "name": "stderr",
     "output_type": "stream",
     "text": [
      "/home/ub/miniconda3/lib/python3.6/site-packages/bs4/__init__.py:219: UserWarning: \"b'.'\" looks like a filename, not markup. You should probably open this file and pass the filehandle into Beautiful Soup.\n",
      "  ' Beautiful Soup.' % markup)\n",
      "/home/ub/miniconda3/lib/python3.6/site-packages/bs4/__init__.py:282: UserWarning: \"http://www.happierabroad.com\" looks like a URL. Beautiful Soup is not an HTTP client. You should probably use an HTTP client like requests to get the document behind the URL, and feed that document to Beautiful Soup.\n",
      "  ' that document to Beautiful Soup.' % decoded_markup\n"
     ]
    },
    {
     "name": "stdout",
     "output_type": "stream",
     "text": [
      "parsing reviews from unlabeled data: \n",
      "\n"
     ]
    },
    {
     "name": "stderr",
     "output_type": "stream",
     "text": [
      "/home/ub/miniconda3/lib/python3.6/site-packages/bs4/__init__.py:282: UserWarning: \"http://www.archive.org/details/LovefromaStranger\" looks like a URL. Beautiful Soup is not an HTTP client. You should probably use an HTTP client like requests to get the document behind the URL, and feed that document to Beautiful Soup.\n",
      "  ' that document to Beautiful Soup.' % decoded_markup\n",
      "/home/ub/miniconda3/lib/python3.6/site-packages/bs4/__init__.py:219: UserWarning: \"b'..'\" looks like a filename, not markup. You should probably open this file and pass the filehandle into Beautiful Soup.\n",
      "  ' Beautiful Soup.' % markup)\n",
      "/home/ub/miniconda3/lib/python3.6/site-packages/bs4/__init__.py:282: UserWarning: \"http://www.loosechangeguide.com/LooseChangeGuide.html\" looks like a URL. Beautiful Soup is not an HTTP client. You should probably use an HTTP client like requests to get the document behind the URL, and feed that document to Beautiful Soup.\n",
      "  ' that document to Beautiful Soup.' % decoded_markup\n",
      "/home/ub/miniconda3/lib/python3.6/site-packages/bs4/__init__.py:282: UserWarning: \"http://www.msnbc.msn.com/id/4972055/site/newsweek/\" looks like a URL. Beautiful Soup is not an HTTP client. You should probably use an HTTP client like requests to get the document behind the URL, and feed that document to Beautiful Soup.\n",
      "  ' that document to Beautiful Soup.' % decoded_markup\n",
      "/home/ub/miniconda3/lib/python3.6/site-packages/bs4/__init__.py:282: UserWarning: \"http://www.youtube.com/watch?v=a0KSqelmgN8\" looks like a URL. Beautiful Soup is not an HTTP client. You should probably use an HTTP client like requests to get the document behind the URL, and feed that document to Beautiful Soup.\n",
      "  ' that document to Beautiful Soup.' % decoded_markup\n",
      "/home/ub/miniconda3/lib/python3.6/site-packages/bs4/__init__.py:282: UserWarning: \"http://jake-weird.blogspot.com/2007/08/beneath.html\" looks like a URL. Beautiful Soup is not an HTTP client. You should probably use an HTTP client like requests to get the document behind the URL, and feed that document to Beautiful Soup.\n",
      "  ' that document to Beautiful Soup.' % decoded_markup\n"
     ]
    }
   ],
   "source": [
    "# sent_tokenizer = nltk.data.load('tokenizers/punkt/english.pickle')\n",
    "review_list = [] # format: [[review1], [review2], ...]\n",
    "print('parsing reviews from training data: \\n')\n",
    "for review in train_df.review:\n",
    "    review_list += review2sent_list(review)\n",
    "\n",
    "print('parsing reviews from unlabeled data: \\n')\n",
    "for review in unlabeled_train_df.review:\n",
    "    review_list += review2sent_list(review)"
   ]
  },
  {
   "cell_type": "code",
   "execution_count": 10,
   "metadata": {},
   "outputs": [
    {
     "name": "stdout",
     "output_type": "stream",
     "text": [
      "len of reviews:  808704\n",
      "\n",
      "the first review: \n",
      " ['with', 'all', 'this', 'stuff', 'going', 'down', 'at', 'the', 'moment', 'with', 'mj', 'i', 've', 'started', 'listening', 'to', 'his', 'music', 'watching', 'the', 'odd', 'documentary', 'here', 'and', 'there', 'watched', 'the', 'wiz', 'and', 'watched', 'moonwalker', 'again']\n",
      "\n",
      "the second review: \n",
      " ['maybe', 'i', 'just', 'want', 'to', 'get', 'a', 'certain', 'insight', 'into', 'this', 'guy', 'who', 'i', 'thought', 'was', 'really', 'cool', 'in', 'the', 'eighties', 'just', 'to', 'maybe', 'make', 'up', 'my', 'mind', 'whether', 'he', 'is', 'guilty', 'or', 'innocent']\n"
     ]
    }
   ],
   "source": [
    "print('len of reviews: ', len(review_list))\n",
    "print('\\nthe first review: \\n', review_list[0])\n",
    "print('\\nthe second review: \\n', review_list[1])"
   ]
  },
  {
   "cell_type": "code",
   "execution_count": 11,
   "metadata": {},
   "outputs": [
    {
     "name": "stdout",
     "output_type": "stream",
     "text": [
      "training model\n"
     ]
    }
   ],
   "source": [
    "## training a word2vec model\n",
    "\n",
    "print('training model')\n",
    "model = Word2Vec(review_list, size=300, window=10, min_count=40, workers=4)\n",
    "model.save('300features-10context-40minwords')"
   ]
  },
  {
   "cell_type": "code",
   "execution_count": 12,
   "metadata": {},
   "outputs": [
    {
     "data": {
      "text/plain": [
       "[('woman', 0.6067818403244019),\n",
       " ('lady', 0.5969487428665161),\n",
       " ('lad', 0.5700379610061646),\n",
       " ('guy', 0.5343689918518066),\n",
       " ('monk', 0.5282979607582092),\n",
       " ('men', 0.5258927345275879),\n",
       " ('farmer', 0.5221534371376038),\n",
       " ('soldier', 0.5164685845375061),\n",
       " ('priest', 0.515847384929657),\n",
       " ('person', 0.5158398151397705)]"
      ]
     },
     "execution_count": 12,
     "metadata": {},
     "output_type": "execute_result"
    }
   ],
   "source": [
    "model.most_similar('man')"
   ]
  },
  {
   "cell_type": "code",
   "execution_count": 13,
   "metadata": {},
   "outputs": [
    {
     "data": {
      "text/plain": [
       "[('princess', 0.6676959991455078),\n",
       " ('bride', 0.6202530264854431),\n",
       " ('stepmother', 0.6112695932388306),\n",
       " ('goddess', 0.5895574688911438),\n",
       " ('seductress', 0.5838366150856018),\n",
       " ('eva', 0.5808178186416626),\n",
       " ('mistress', 0.57389235496521),\n",
       " ('maid', 0.5654277801513672),\n",
       " ('prince', 0.5641684532165527),\n",
       " ('hunchback', 0.5631351470947266)]"
      ]
     },
     "execution_count": 13,
     "metadata": {},
     "output_type": "execute_result"
    }
   ],
   "source": [
    "model.most_similar('queen')"
   ]
  },
  {
   "cell_type": "code",
   "execution_count": 14,
   "metadata": {},
   "outputs": [
    {
     "data": {
      "text/plain": [
       "[('terrible', 0.7620289325714111),\n",
       " ('atrocious', 0.744351327419281),\n",
       " ('dreadful', 0.7296530604362488),\n",
       " ('horrible', 0.7197510004043579),\n",
       " ('abysmal', 0.6975699067115784),\n",
       " ('horrendous', 0.6828667521476746),\n",
       " ('appalling', 0.677104115486145),\n",
       " ('horrid', 0.6722877621650696),\n",
       " ('lousy', 0.6218140125274658),\n",
       " ('amateurish', 0.6053661108016968)]"
      ]
     },
     "execution_count": 14,
     "metadata": {},
     "output_type": "execute_result"
    }
   ],
   "source": [
    "model.most_similar('awful')"
   ]
  },
  {
   "cell_type": "code",
   "execution_count": 16,
   "metadata": {},
   "outputs": [
    {
     "data": {
      "text/plain": [
       "[('cgi', 0.5957990884780884),\n",
       " ('software', 0.595744252204895),\n",
       " ('generated', 0.5826317071914673),\n",
       " ('technology', 0.5680620074272156),\n",
       " ('computers', 0.5613633990287781),\n",
       " ('graphics', 0.5320250988006592),\n",
       " ('monitor', 0.5284072160720825),\n",
       " ('cg', 0.5250223278999329),\n",
       " ('digital', 0.5223430395126343),\n",
       " ('laser', 0.5146235227584839)]"
      ]
     },
     "execution_count": 16,
     "metadata": {},
     "output_type": "execute_result"
    }
   ],
   "source": [
    "model.most_similar('computer')"
   ]
  },
  {
   "cell_type": "code",
   "execution_count": null,
   "metadata": {},
   "outputs": [],
   "source": []
  }
 ],
 "metadata": {
  "kernelspec": {
   "display_name": "Python 3",
   "language": "python",
   "name": "python3"
  },
  "language_info": {
   "codemirror_mode": {
    "name": "ipython",
    "version": 3
   },
   "file_extension": ".py",
   "mimetype": "text/x-python",
   "name": "python",
   "nbconvert_exporter": "python",
   "pygments_lexer": "ipython3",
   "version": "3.6.3"
  }
 },
 "nbformat": 4,
 "nbformat_minor": 2
}
